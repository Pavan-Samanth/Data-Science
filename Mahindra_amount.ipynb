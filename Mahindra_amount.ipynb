{
 "cells": [
  {
   "cell_type": "code",
   "execution_count": 1,
   "metadata": {},
   "outputs": [
    {
     "data": {
      "text/plain": [
       "'C:\\\\Users\\\\pavan samanth'"
      ]
     },
     "execution_count": 1,
     "metadata": {},
     "output_type": "execute_result"
    }
   ],
   "source": [
    "import numpy as np\n",
    "import pandas as pd\n",
    "import matplotlib.pyplot as plt\n",
    "import seaborn as sns\n",
    "%matplotlib inline\n",
    "import os\n",
    "os.getcwd()"
   ]
  },
  {
   "cell_type": "code",
   "execution_count": 2,
   "metadata": {},
   "outputs": [],
   "source": [
    "train = pd.read_csv('Club_Mahindra/train.csv')"
   ]
  },
  {
   "cell_type": "code",
   "execution_count": 3,
   "metadata": {},
   "outputs": [
    {
     "data": {
      "text/html": [
       "<div>\n",
       "<style scoped>\n",
       "    .dataframe tbody tr th:only-of-type {\n",
       "        vertical-align: middle;\n",
       "    }\n",
       "\n",
       "    .dataframe tbody tr th {\n",
       "        vertical-align: top;\n",
       "    }\n",
       "\n",
       "    .dataframe thead th {\n",
       "        text-align: right;\n",
       "    }\n",
       "</style>\n",
       "<table border=\"1\" class=\"dataframe\">\n",
       "  <thead>\n",
       "    <tr style=\"text-align: right;\">\n",
       "      <th></th>\n",
       "      <th>reservation_id</th>\n",
       "      <th>booking_date</th>\n",
       "      <th>checkin_date</th>\n",
       "      <th>checkout_date</th>\n",
       "      <th>channel_code</th>\n",
       "      <th>main_product_code</th>\n",
       "      <th>numberofadults</th>\n",
       "      <th>numberofchildren</th>\n",
       "      <th>persontravellingid</th>\n",
       "      <th>resort_region_code</th>\n",
       "      <th>...</th>\n",
       "      <th>state_code_residence</th>\n",
       "      <th>state_code_resort</th>\n",
       "      <th>total_pax</th>\n",
       "      <th>member_age_buckets</th>\n",
       "      <th>booking_type_code</th>\n",
       "      <th>memberid</th>\n",
       "      <th>cluster_code</th>\n",
       "      <th>reservationstatusid_code</th>\n",
       "      <th>resort_id</th>\n",
       "      <th>amount_spent_per_room_night_scaled</th>\n",
       "    </tr>\n",
       "  </thead>\n",
       "  <tbody>\n",
       "    <tr>\n",
       "      <th>0</th>\n",
       "      <td>07659f3758d8aee27f5a7e2887adeacb67021cb95ada1b...</td>\n",
       "      <td>05/04/18</td>\n",
       "      <td>05/04/18</td>\n",
       "      <td>06/04/18</td>\n",
       "      <td>3</td>\n",
       "      <td>1</td>\n",
       "      <td>2</td>\n",
       "      <td>0</td>\n",
       "      <td>46</td>\n",
       "      <td>3</td>\n",
       "      <td>...</td>\n",
       "      <td>7.0</td>\n",
       "      <td>3</td>\n",
       "      <td>3</td>\n",
       "      <td>F</td>\n",
       "      <td>1</td>\n",
       "      <td>3d1539e56495b6991f0a3ef5a61ca3d03ce4fff7380e9a...</td>\n",
       "      <td>F</td>\n",
       "      <td>C</td>\n",
       "      <td>4e07408562bedb8b60ce05c1decfe3ad16b72230967de0...</td>\n",
       "      <td>7.706428</td>\n",
       "    </tr>\n",
       "    <tr>\n",
       "      <th>1</th>\n",
       "      <td>03930f033646d073462b35d411616323597715ac4fc398...</td>\n",
       "      <td>23/01/15</td>\n",
       "      <td>11/04/15</td>\n",
       "      <td>16/04/15</td>\n",
       "      <td>1</td>\n",
       "      <td>1</td>\n",
       "      <td>2</td>\n",
       "      <td>0</td>\n",
       "      <td>46</td>\n",
       "      <td>3</td>\n",
       "      <td>...</td>\n",
       "      <td>7.0</td>\n",
       "      <td>5</td>\n",
       "      <td>2</td>\n",
       "      <td>F</td>\n",
       "      <td>1</td>\n",
       "      <td>3d1539e56495b6991f0a3ef5a61ca3d03ce4fff7380e9a...</td>\n",
       "      <td>F</td>\n",
       "      <td>A</td>\n",
       "      <td>39fa9ec190eee7b6f4dff1100d6343e10918d044c75eac...</td>\n",
       "      <td>6.662563</td>\n",
       "    </tr>\n",
       "    <tr>\n",
       "      <th>2</th>\n",
       "      <td>d145a32920e6587ad95bfe299d80c0affa268220535aaf...</td>\n",
       "      <td>28/01/15</td>\n",
       "      <td>01/02/15</td>\n",
       "      <td>05/02/15</td>\n",
       "      <td>1</td>\n",
       "      <td>1</td>\n",
       "      <td>2</td>\n",
       "      <td>0</td>\n",
       "      <td>47</td>\n",
       "      <td>1</td>\n",
       "      <td>...</td>\n",
       "      <td>7.0</td>\n",
       "      <td>1</td>\n",
       "      <td>2</td>\n",
       "      <td>F</td>\n",
       "      <td>1</td>\n",
       "      <td>3d1539e56495b6991f0a3ef5a61ca3d03ce4fff7380e9a...</td>\n",
       "      <td>E</td>\n",
       "      <td>A</td>\n",
       "      <td>535fa30d7e25dd8a49f1536779734ec8286108d115da50...</td>\n",
       "      <td>7.871602</td>\n",
       "    </tr>\n",
       "    <tr>\n",
       "      <th>3</th>\n",
       "      <td>cfd77f44811ed62f25a220b53324cdbafc662a4c9e5f04...</td>\n",
       "      <td>02/05/15</td>\n",
       "      <td>11/06/15</td>\n",
       "      <td>16/06/15</td>\n",
       "      <td>1</td>\n",
       "      <td>1</td>\n",
       "      <td>2</td>\n",
       "      <td>2</td>\n",
       "      <td>46</td>\n",
       "      <td>2</td>\n",
       "      <td>...</td>\n",
       "      <td>7.0</td>\n",
       "      <td>2</td>\n",
       "      <td>2</td>\n",
       "      <td>F</td>\n",
       "      <td>1</td>\n",
       "      <td>3d1539e56495b6991f0a3ef5a61ca3d03ce4fff7380e9a...</td>\n",
       "      <td>D</td>\n",
       "      <td>A</td>\n",
       "      <td>d4735e3a265e16eee03f59718b9b5d03019c07d8b6c51f...</td>\n",
       "      <td>5.344943</td>\n",
       "    </tr>\n",
       "    <tr>\n",
       "      <th>4</th>\n",
       "      <td>937cff9e4dcfc2459620153dfc8b9962ac22bea67dfb29...</td>\n",
       "      <td>02/09/15</td>\n",
       "      <td>14/12/15</td>\n",
       "      <td>19/12/15</td>\n",
       "      <td>1</td>\n",
       "      <td>1</td>\n",
       "      <td>2</td>\n",
       "      <td>0</td>\n",
       "      <td>46</td>\n",
       "      <td>2</td>\n",
       "      <td>...</td>\n",
       "      <td>7.0</td>\n",
       "      <td>2</td>\n",
       "      <td>2</td>\n",
       "      <td>F</td>\n",
       "      <td>1</td>\n",
       "      <td>3d1539e56495b6991f0a3ef5a61ca3d03ce4fff7380e9a...</td>\n",
       "      <td>D</td>\n",
       "      <td>A</td>\n",
       "      <td>d4735e3a265e16eee03f59718b9b5d03019c07d8b6c51f...</td>\n",
       "      <td>7.059346</td>\n",
       "    </tr>\n",
       "  </tbody>\n",
       "</table>\n",
       "<p>5 rows × 24 columns</p>\n",
       "</div>"
      ],
      "text/plain": [
       "                                      reservation_id booking_date  \\\n",
       "0  07659f3758d8aee27f5a7e2887adeacb67021cb95ada1b...     05/04/18   \n",
       "1  03930f033646d073462b35d411616323597715ac4fc398...     23/01/15   \n",
       "2  d145a32920e6587ad95bfe299d80c0affa268220535aaf...     28/01/15   \n",
       "3  cfd77f44811ed62f25a220b53324cdbafc662a4c9e5f04...     02/05/15   \n",
       "4  937cff9e4dcfc2459620153dfc8b9962ac22bea67dfb29...     02/09/15   \n",
       "\n",
       "  checkin_date checkout_date  channel_code  main_product_code  numberofadults  \\\n",
       "0     05/04/18      06/04/18             3                  1               2   \n",
       "1     11/04/15      16/04/15             1                  1               2   \n",
       "2     01/02/15      05/02/15             1                  1               2   \n",
       "3     11/06/15      16/06/15             1                  1               2   \n",
       "4     14/12/15      19/12/15             1                  1               2   \n",
       "\n",
       "   numberofchildren  persontravellingid  resort_region_code  \\\n",
       "0                 0                  46                   3   \n",
       "1                 0                  46                   3   \n",
       "2                 0                  47                   1   \n",
       "3                 2                  46                   2   \n",
       "4                 0                  46                   2   \n",
       "\n",
       "                 ...                  state_code_residence  state_code_resort  \\\n",
       "0                ...                                   7.0                  3   \n",
       "1                ...                                   7.0                  5   \n",
       "2                ...                                   7.0                  1   \n",
       "3                ...                                   7.0                  2   \n",
       "4                ...                                   7.0                  2   \n",
       "\n",
       "   total_pax  member_age_buckets  booking_type_code  \\\n",
       "0          3                   F                  1   \n",
       "1          2                   F                  1   \n",
       "2          2                   F                  1   \n",
       "3          2                   F                  1   \n",
       "4          2                   F                  1   \n",
       "\n",
       "                                            memberid  cluster_code  \\\n",
       "0  3d1539e56495b6991f0a3ef5a61ca3d03ce4fff7380e9a...             F   \n",
       "1  3d1539e56495b6991f0a3ef5a61ca3d03ce4fff7380e9a...             F   \n",
       "2  3d1539e56495b6991f0a3ef5a61ca3d03ce4fff7380e9a...             E   \n",
       "3  3d1539e56495b6991f0a3ef5a61ca3d03ce4fff7380e9a...             D   \n",
       "4  3d1539e56495b6991f0a3ef5a61ca3d03ce4fff7380e9a...             D   \n",
       "\n",
       "  reservationstatusid_code                                          resort_id  \\\n",
       "0                        C  4e07408562bedb8b60ce05c1decfe3ad16b72230967de0...   \n",
       "1                        A  39fa9ec190eee7b6f4dff1100d6343e10918d044c75eac...   \n",
       "2                        A  535fa30d7e25dd8a49f1536779734ec8286108d115da50...   \n",
       "3                        A  d4735e3a265e16eee03f59718b9b5d03019c07d8b6c51f...   \n",
       "4                        A  d4735e3a265e16eee03f59718b9b5d03019c07d8b6c51f...   \n",
       "\n",
       "  amount_spent_per_room_night_scaled  \n",
       "0                           7.706428  \n",
       "1                           6.662563  \n",
       "2                           7.871602  \n",
       "3                           5.344943  \n",
       "4                           7.059346  \n",
       "\n",
       "[5 rows x 24 columns]"
      ]
     },
     "execution_count": 3,
     "metadata": {},
     "output_type": "execute_result"
    }
   ],
   "source": [
    "train.head()"
   ]
  },
  {
   "cell_type": "code",
   "execution_count": 4,
   "metadata": {},
   "outputs": [
    {
     "data": {
      "text/plain": [
       "Index(['reservation_id', 'booking_date', 'checkin_date', 'checkout_date',\n",
       "       'channel_code', 'main_product_code', 'numberofadults',\n",
       "       'numberofchildren', 'persontravellingid', 'resort_region_code',\n",
       "       'resort_type_code', 'room_type_booked_code', 'roomnights',\n",
       "       'season_holidayed_code', 'state_code_residence', 'state_code_resort',\n",
       "       'total_pax', 'member_age_buckets', 'booking_type_code', 'memberid',\n",
       "       'cluster_code', 'reservationstatusid_code', 'resort_id',\n",
       "       'amount_spent_per_room_night_scaled'],\n",
       "      dtype='object')"
      ]
     },
     "execution_count": 4,
     "metadata": {},
     "output_type": "execute_result"
    }
   ],
   "source": [
    "train.columns"
   ]
  },
  {
   "cell_type": "code",
   "execution_count": 5,
   "metadata": {},
   "outputs": [],
   "source": [
    "test = pd.read_csv('Club_Mahindra/test.csv')"
   ]
  },
  {
   "cell_type": "code",
   "execution_count": 6,
   "metadata": {},
   "outputs": [
    {
     "data": {
      "text/html": [
       "<div>\n",
       "<style scoped>\n",
       "    .dataframe tbody tr th:only-of-type {\n",
       "        vertical-align: middle;\n",
       "    }\n",
       "\n",
       "    .dataframe tbody tr th {\n",
       "        vertical-align: top;\n",
       "    }\n",
       "\n",
       "    .dataframe thead th {\n",
       "        text-align: right;\n",
       "    }\n",
       "</style>\n",
       "<table border=\"1\" class=\"dataframe\">\n",
       "  <thead>\n",
       "    <tr style=\"text-align: right;\">\n",
       "      <th></th>\n",
       "      <th>reservation_id</th>\n",
       "      <th>booking_date</th>\n",
       "      <th>checkin_date</th>\n",
       "      <th>checkout_date</th>\n",
       "      <th>channel_code</th>\n",
       "      <th>main_product_code</th>\n",
       "      <th>numberofadults</th>\n",
       "      <th>numberofchildren</th>\n",
       "      <th>persontravellingid</th>\n",
       "      <th>resort_region_code</th>\n",
       "      <th>...</th>\n",
       "      <th>season_holidayed_code</th>\n",
       "      <th>state_code_residence</th>\n",
       "      <th>state_code_resort</th>\n",
       "      <th>total_pax</th>\n",
       "      <th>member_age_buckets</th>\n",
       "      <th>booking_type_code</th>\n",
       "      <th>memberid</th>\n",
       "      <th>cluster_code</th>\n",
       "      <th>reservationstatusid_code</th>\n",
       "      <th>resort_id</th>\n",
       "    </tr>\n",
       "  </thead>\n",
       "  <tbody>\n",
       "    <tr>\n",
       "      <th>0</th>\n",
       "      <td>7dae1ce6bc8f69481328f2be5c4943077dad5598b5f66d...</td>\n",
       "      <td>05/04/18</td>\n",
       "      <td>05/04/18</td>\n",
       "      <td>06/04/18</td>\n",
       "      <td>3</td>\n",
       "      <td>2</td>\n",
       "      <td>2</td>\n",
       "      <td>0</td>\n",
       "      <td>45</td>\n",
       "      <td>3</td>\n",
       "      <td>...</td>\n",
       "      <td>2.0</td>\n",
       "      <td>2.0</td>\n",
       "      <td>3</td>\n",
       "      <td>3</td>\n",
       "      <td>H</td>\n",
       "      <td>1</td>\n",
       "      <td>2114944930dcc42ce5b9b50ae965cf8a9c04e46be63d84...</td>\n",
       "      <td>A</td>\n",
       "      <td>C</td>\n",
       "      <td>9f14025af0065b30e47e23ebb3b491d39ae8ed17d33739...</td>\n",
       "    </tr>\n",
       "    <tr>\n",
       "      <th>1</th>\n",
       "      <td>fe0d4e444e1818436c88f72f1cf800536c2f785e59baeb...</td>\n",
       "      <td>24/05/15</td>\n",
       "      <td>23/06/15</td>\n",
       "      <td>27/06/15</td>\n",
       "      <td>1</td>\n",
       "      <td>2</td>\n",
       "      <td>4</td>\n",
       "      <td>0</td>\n",
       "      <td>45</td>\n",
       "      <td>1</td>\n",
       "      <td>...</td>\n",
       "      <td>2.0</td>\n",
       "      <td>2.0</td>\n",
       "      <td>4</td>\n",
       "      <td>2</td>\n",
       "      <td>H</td>\n",
       "      <td>1</td>\n",
       "      <td>2114944930dcc42ce5b9b50ae965cf8a9c04e46be63d84...</td>\n",
       "      <td>F</td>\n",
       "      <td>A</td>\n",
       "      <td>e7f6c011776e8db7cd330b54174fd76f7d0216b612387a...</td>\n",
       "    </tr>\n",
       "    <tr>\n",
       "      <th>2</th>\n",
       "      <td>540bd4285ad8168e8388f84ee74a82cd4f97dc0a404d3e...</td>\n",
       "      <td>21/07/15</td>\n",
       "      <td>07/08/15</td>\n",
       "      <td>10/08/15</td>\n",
       "      <td>3</td>\n",
       "      <td>2</td>\n",
       "      <td>3</td>\n",
       "      <td>0</td>\n",
       "      <td>45</td>\n",
       "      <td>2</td>\n",
       "      <td>...</td>\n",
       "      <td>4.0</td>\n",
       "      <td>2.0</td>\n",
       "      <td>2</td>\n",
       "      <td>3</td>\n",
       "      <td>H</td>\n",
       "      <td>1</td>\n",
       "      <td>2114944930dcc42ce5b9b50ae965cf8a9c04e46be63d84...</td>\n",
       "      <td>D</td>\n",
       "      <td>A</td>\n",
       "      <td>d4735e3a265e16eee03f59718b9b5d03019c07d8b6c51f...</td>\n",
       "    </tr>\n",
       "    <tr>\n",
       "      <th>3</th>\n",
       "      <td>09593c907ae262e46f655b4db9e14f54a19eadcfdd2679...</td>\n",
       "      <td>31/07/15</td>\n",
       "      <td>22/10/15</td>\n",
       "      <td>25/10/15</td>\n",
       "      <td>1</td>\n",
       "      <td>2</td>\n",
       "      <td>3</td>\n",
       "      <td>0</td>\n",
       "      <td>45</td>\n",
       "      <td>1</td>\n",
       "      <td>...</td>\n",
       "      <td>2.0</td>\n",
       "      <td>2.0</td>\n",
       "      <td>6</td>\n",
       "      <td>3</td>\n",
       "      <td>H</td>\n",
       "      <td>1</td>\n",
       "      <td>2114944930dcc42ce5b9b50ae965cf8a9c04e46be63d84...</td>\n",
       "      <td>F</td>\n",
       "      <td>A</td>\n",
       "      <td>49d180ecf56132819571bf39d9b7b342522a2ac6d23c14...</td>\n",
       "    </tr>\n",
       "    <tr>\n",
       "      <th>4</th>\n",
       "      <td>f4c50caac68051faf37551d70bb17eebef2a20e2244cb1...</td>\n",
       "      <td>01/07/16</td>\n",
       "      <td>01/10/16</td>\n",
       "      <td>05/10/16</td>\n",
       "      <td>1</td>\n",
       "      <td>2</td>\n",
       "      <td>4</td>\n",
       "      <td>0</td>\n",
       "      <td>45</td>\n",
       "      <td>1</td>\n",
       "      <td>...</td>\n",
       "      <td>2.0</td>\n",
       "      <td>2.0</td>\n",
       "      <td>11</td>\n",
       "      <td>2</td>\n",
       "      <td>H</td>\n",
       "      <td>1</td>\n",
       "      <td>2114944930dcc42ce5b9b50ae965cf8a9c04e46be63d84...</td>\n",
       "      <td>F</td>\n",
       "      <td>A</td>\n",
       "      <td>e29c9c180c6279b0b02abd6a1801c7c04082cf486ec027...</td>\n",
       "    </tr>\n",
       "  </tbody>\n",
       "</table>\n",
       "<p>5 rows × 23 columns</p>\n",
       "</div>"
      ],
      "text/plain": [
       "                                      reservation_id booking_date  \\\n",
       "0  7dae1ce6bc8f69481328f2be5c4943077dad5598b5f66d...     05/04/18   \n",
       "1  fe0d4e444e1818436c88f72f1cf800536c2f785e59baeb...     24/05/15   \n",
       "2  540bd4285ad8168e8388f84ee74a82cd4f97dc0a404d3e...     21/07/15   \n",
       "3  09593c907ae262e46f655b4db9e14f54a19eadcfdd2679...     31/07/15   \n",
       "4  f4c50caac68051faf37551d70bb17eebef2a20e2244cb1...     01/07/16   \n",
       "\n",
       "  checkin_date checkout_date  channel_code  main_product_code  numberofadults  \\\n",
       "0     05/04/18      06/04/18             3                  2               2   \n",
       "1     23/06/15      27/06/15             1                  2               4   \n",
       "2     07/08/15      10/08/15             3                  2               3   \n",
       "3     22/10/15      25/10/15             1                  2               3   \n",
       "4     01/10/16      05/10/16             1                  2               4   \n",
       "\n",
       "   numberofchildren  persontravellingid  resort_region_code  \\\n",
       "0                 0                  45                   3   \n",
       "1                 0                  45                   1   \n",
       "2                 0                  45                   2   \n",
       "3                 0                  45                   1   \n",
       "4                 0                  45                   1   \n",
       "\n",
       "                         ...                          season_holidayed_code  \\\n",
       "0                        ...                                            2.0   \n",
       "1                        ...                                            2.0   \n",
       "2                        ...                                            4.0   \n",
       "3                        ...                                            2.0   \n",
       "4                        ...                                            2.0   \n",
       "\n",
       "   state_code_residence  state_code_resort  total_pax  member_age_buckets  \\\n",
       "0                   2.0                  3          3                   H   \n",
       "1                   2.0                  4          2                   H   \n",
       "2                   2.0                  2          3                   H   \n",
       "3                   2.0                  6          3                   H   \n",
       "4                   2.0                 11          2                   H   \n",
       "\n",
       "   booking_type_code                                           memberid  \\\n",
       "0                  1  2114944930dcc42ce5b9b50ae965cf8a9c04e46be63d84...   \n",
       "1                  1  2114944930dcc42ce5b9b50ae965cf8a9c04e46be63d84...   \n",
       "2                  1  2114944930dcc42ce5b9b50ae965cf8a9c04e46be63d84...   \n",
       "3                  1  2114944930dcc42ce5b9b50ae965cf8a9c04e46be63d84...   \n",
       "4                  1  2114944930dcc42ce5b9b50ae965cf8a9c04e46be63d84...   \n",
       "\n",
       "  cluster_code  reservationstatusid_code  \\\n",
       "0            A                         C   \n",
       "1            F                         A   \n",
       "2            D                         A   \n",
       "3            F                         A   \n",
       "4            F                         A   \n",
       "\n",
       "                                           resort_id  \n",
       "0  9f14025af0065b30e47e23ebb3b491d39ae8ed17d33739...  \n",
       "1  e7f6c011776e8db7cd330b54174fd76f7d0216b612387a...  \n",
       "2  d4735e3a265e16eee03f59718b9b5d03019c07d8b6c51f...  \n",
       "3  49d180ecf56132819571bf39d9b7b342522a2ac6d23c14...  \n",
       "4  e29c9c180c6279b0b02abd6a1801c7c04082cf486ec027...  \n",
       "\n",
       "[5 rows x 23 columns]"
      ]
     },
     "execution_count": 6,
     "metadata": {},
     "output_type": "execute_result"
    }
   ],
   "source": [
    "test.head()"
   ]
  },
  {
   "cell_type": "code",
   "execution_count": 7,
   "metadata": {},
   "outputs": [
    {
     "data": {
      "text/plain": [
       "Index(['reservation_id', 'booking_date', 'checkin_date', 'checkout_date',\n",
       "       'channel_code', 'main_product_code', 'numberofadults',\n",
       "       'numberofchildren', 'persontravellingid', 'resort_region_code',\n",
       "       'resort_type_code', 'room_type_booked_code', 'roomnights',\n",
       "       'season_holidayed_code', 'state_code_residence', 'state_code_resort',\n",
       "       'total_pax', 'member_age_buckets', 'booking_type_code', 'memberid',\n",
       "       'cluster_code', 'reservationstatusid_code', 'resort_id'],\n",
       "      dtype='object')"
      ]
     },
     "execution_count": 7,
     "metadata": {},
     "output_type": "execute_result"
    }
   ],
   "source": [
    "test.columns"
   ]
  },
  {
   "cell_type": "code",
   "execution_count": 8,
   "metadata": {},
   "outputs": [
    {
     "data": {
      "text/html": [
       "<div>\n",
       "<style scoped>\n",
       "    .dataframe tbody tr th:only-of-type {\n",
       "        vertical-align: middle;\n",
       "    }\n",
       "\n",
       "    .dataframe tbody tr th {\n",
       "        vertical-align: top;\n",
       "    }\n",
       "\n",
       "    .dataframe thead th {\n",
       "        text-align: right;\n",
       "    }\n",
       "</style>\n",
       "<table border=\"1\" class=\"dataframe\">\n",
       "  <thead>\n",
       "    <tr style=\"text-align: right;\">\n",
       "      <th></th>\n",
       "      <th>channel_code</th>\n",
       "      <th>main_product_code</th>\n",
       "      <th>numberofadults</th>\n",
       "      <th>numberofchildren</th>\n",
       "      <th>persontravellingid</th>\n",
       "      <th>resort_region_code</th>\n",
       "      <th>resort_type_code</th>\n",
       "      <th>room_type_booked_code</th>\n",
       "      <th>roomnights</th>\n",
       "      <th>season_holidayed_code</th>\n",
       "      <th>state_code_residence</th>\n",
       "      <th>state_code_resort</th>\n",
       "      <th>total_pax</th>\n",
       "      <th>booking_type_code</th>\n",
       "      <th>amount_spent_per_room_night_scaled</th>\n",
       "    </tr>\n",
       "  </thead>\n",
       "  <tbody>\n",
       "    <tr>\n",
       "      <th>count</th>\n",
       "      <td>341424.000000</td>\n",
       "      <td>341424.000000</td>\n",
       "      <td>341424.000000</td>\n",
       "      <td>341424.000000</td>\n",
       "      <td>341424.000000</td>\n",
       "      <td>341424.000000</td>\n",
       "      <td>341424.000000</td>\n",
       "      <td>341424.000000</td>\n",
       "      <td>341424.000000</td>\n",
       "      <td>341310.000000</td>\n",
       "      <td>336660.000000</td>\n",
       "      <td>341424.000000</td>\n",
       "      <td>341424.000000</td>\n",
       "      <td>341424.000000</td>\n",
       "      <td>341424.000000</td>\n",
       "    </tr>\n",
       "    <tr>\n",
       "      <th>mean</th>\n",
       "      <td>1.902810</td>\n",
       "      <td>2.208738</td>\n",
       "      <td>3.275361</td>\n",
       "      <td>0.362696</td>\n",
       "      <td>210.288905</td>\n",
       "      <td>1.772960</td>\n",
       "      <td>2.193832</td>\n",
       "      <td>2.890321</td>\n",
       "      <td>3.738346</td>\n",
       "      <td>2.673862</td>\n",
       "      <td>7.260708</td>\n",
       "      <td>4.763303</td>\n",
       "      <td>3.193390</td>\n",
       "      <td>1.124209</td>\n",
       "      <td>7.720801</td>\n",
       "    </tr>\n",
       "    <tr>\n",
       "      <th>std</th>\n",
       "      <td>0.915311</td>\n",
       "      <td>0.823779</td>\n",
       "      <td>1.756062</td>\n",
       "      <td>0.758019</td>\n",
       "      <td>865.735577</td>\n",
       "      <td>0.750806</td>\n",
       "      <td>1.551451</td>\n",
       "      <td>0.804260</td>\n",
       "      <td>2.479054</td>\n",
       "      <td>0.885650</td>\n",
       "      <td>4.701283</td>\n",
       "      <td>3.103909</td>\n",
       "      <td>1.167824</td>\n",
       "      <td>0.329821</td>\n",
       "      <td>1.090109</td>\n",
       "    </tr>\n",
       "    <tr>\n",
       "      <th>min</th>\n",
       "      <td>1.000000</td>\n",
       "      <td>1.000000</td>\n",
       "      <td>0.000000</td>\n",
       "      <td>0.000000</td>\n",
       "      <td>45.000000</td>\n",
       "      <td>1.000000</td>\n",
       "      <td>0.000000</td>\n",
       "      <td>1.000000</td>\n",
       "      <td>-45.000000</td>\n",
       "      <td>1.000000</td>\n",
       "      <td>1.000000</td>\n",
       "      <td>1.000000</td>\n",
       "      <td>0.000000</td>\n",
       "      <td>1.000000</td>\n",
       "      <td>1.600397</td>\n",
       "    </tr>\n",
       "    <tr>\n",
       "      <th>25%</th>\n",
       "      <td>1.000000</td>\n",
       "      <td>2.000000</td>\n",
       "      <td>2.000000</td>\n",
       "      <td>0.000000</td>\n",
       "      <td>45.000000</td>\n",
       "      <td>1.000000</td>\n",
       "      <td>1.000000</td>\n",
       "      <td>2.000000</td>\n",
       "      <td>2.000000</td>\n",
       "      <td>2.000000</td>\n",
       "      <td>4.000000</td>\n",
       "      <td>2.000000</td>\n",
       "      <td>2.000000</td>\n",
       "      <td>1.000000</td>\n",
       "      <td>7.187260</td>\n",
       "    </tr>\n",
       "    <tr>\n",
       "      <th>50%</th>\n",
       "      <td>2.000000</td>\n",
       "      <td>2.000000</td>\n",
       "      <td>3.000000</td>\n",
       "      <td>0.000000</td>\n",
       "      <td>45.000000</td>\n",
       "      <td>2.000000</td>\n",
       "      <td>2.000000</td>\n",
       "      <td>3.000000</td>\n",
       "      <td>3.000000</td>\n",
       "      <td>3.000000</td>\n",
       "      <td>8.000000</td>\n",
       "      <td>5.000000</td>\n",
       "      <td>3.000000</td>\n",
       "      <td>1.000000</td>\n",
       "      <td>7.860814</td>\n",
       "    </tr>\n",
       "    <tr>\n",
       "      <th>75%</th>\n",
       "      <td>3.000000</td>\n",
       "      <td>3.000000</td>\n",
       "      <td>4.000000</td>\n",
       "      <td>0.000000</td>\n",
       "      <td>45.000000</td>\n",
       "      <td>2.000000</td>\n",
       "      <td>3.000000</td>\n",
       "      <td>3.000000</td>\n",
       "      <td>4.000000</td>\n",
       "      <td>3.000000</td>\n",
       "      <td>8.000000</td>\n",
       "      <td>7.000000</td>\n",
       "      <td>4.000000</td>\n",
       "      <td>1.000000</td>\n",
       "      <td>8.419144</td>\n",
       "    </tr>\n",
       "    <tr>\n",
       "      <th>max</th>\n",
       "      <td>3.000000</td>\n",
       "      <td>7.000000</td>\n",
       "      <td>32.000000</td>\n",
       "      <td>13.000000</td>\n",
       "      <td>4995.000000</td>\n",
       "      <td>3.000000</td>\n",
       "      <td>7.000000</td>\n",
       "      <td>6.000000</td>\n",
       "      <td>60.000000</td>\n",
       "      <td>4.000000</td>\n",
       "      <td>38.000000</td>\n",
       "      <td>13.000000</td>\n",
       "      <td>24.000000</td>\n",
       "      <td>2.000000</td>\n",
       "      <td>10.816652</td>\n",
       "    </tr>\n",
       "  </tbody>\n",
       "</table>\n",
       "</div>"
      ],
      "text/plain": [
       "        channel_code  main_product_code  numberofadults  numberofchildren  \\\n",
       "count  341424.000000      341424.000000   341424.000000     341424.000000   \n",
       "mean        1.902810           2.208738        3.275361          0.362696   \n",
       "std         0.915311           0.823779        1.756062          0.758019   \n",
       "min         1.000000           1.000000        0.000000          0.000000   \n",
       "25%         1.000000           2.000000        2.000000          0.000000   \n",
       "50%         2.000000           2.000000        3.000000          0.000000   \n",
       "75%         3.000000           3.000000        4.000000          0.000000   \n",
       "max         3.000000           7.000000       32.000000         13.000000   \n",
       "\n",
       "       persontravellingid  resort_region_code  resort_type_code  \\\n",
       "count       341424.000000       341424.000000     341424.000000   \n",
       "mean           210.288905            1.772960          2.193832   \n",
       "std            865.735577            0.750806          1.551451   \n",
       "min             45.000000            1.000000          0.000000   \n",
       "25%             45.000000            1.000000          1.000000   \n",
       "50%             45.000000            2.000000          2.000000   \n",
       "75%             45.000000            2.000000          3.000000   \n",
       "max           4995.000000            3.000000          7.000000   \n",
       "\n",
       "       room_type_booked_code     roomnights  season_holidayed_code  \\\n",
       "count          341424.000000  341424.000000          341310.000000   \n",
       "mean                2.890321       3.738346               2.673862   \n",
       "std                 0.804260       2.479054               0.885650   \n",
       "min                 1.000000     -45.000000               1.000000   \n",
       "25%                 2.000000       2.000000               2.000000   \n",
       "50%                 3.000000       3.000000               3.000000   \n",
       "75%                 3.000000       4.000000               3.000000   \n",
       "max                 6.000000      60.000000               4.000000   \n",
       "\n",
       "       state_code_residence  state_code_resort      total_pax  \\\n",
       "count         336660.000000      341424.000000  341424.000000   \n",
       "mean               7.260708           4.763303       3.193390   \n",
       "std                4.701283           3.103909       1.167824   \n",
       "min                1.000000           1.000000       0.000000   \n",
       "25%                4.000000           2.000000       2.000000   \n",
       "50%                8.000000           5.000000       3.000000   \n",
       "75%                8.000000           7.000000       4.000000   \n",
       "max               38.000000          13.000000      24.000000   \n",
       "\n",
       "       booking_type_code  amount_spent_per_room_night_scaled  \n",
       "count      341424.000000                       341424.000000  \n",
       "mean            1.124209                            7.720801  \n",
       "std             0.329821                            1.090109  \n",
       "min             1.000000                            1.600397  \n",
       "25%             1.000000                            7.187260  \n",
       "50%             1.000000                            7.860814  \n",
       "75%             1.000000                            8.419144  \n",
       "max             2.000000                           10.816652  "
      ]
     },
     "execution_count": 8,
     "metadata": {},
     "output_type": "execute_result"
    }
   ],
   "source": [
    "train.describe()"
   ]
  },
  {
   "cell_type": "code",
   "execution_count": 9,
   "metadata": {},
   "outputs": [
    {
     "data": {
      "text/html": [
       "<div>\n",
       "<style scoped>\n",
       "    .dataframe tbody tr th:only-of-type {\n",
       "        vertical-align: middle;\n",
       "    }\n",
       "\n",
       "    .dataframe tbody tr th {\n",
       "        vertical-align: top;\n",
       "    }\n",
       "\n",
       "    .dataframe thead th {\n",
       "        text-align: right;\n",
       "    }\n",
       "</style>\n",
       "<table border=\"1\" class=\"dataframe\">\n",
       "  <thead>\n",
       "    <tr style=\"text-align: right;\">\n",
       "      <th></th>\n",
       "      <th>channel_code</th>\n",
       "      <th>main_product_code</th>\n",
       "      <th>numberofadults</th>\n",
       "      <th>numberofchildren</th>\n",
       "      <th>persontravellingid</th>\n",
       "      <th>resort_region_code</th>\n",
       "      <th>resort_type_code</th>\n",
       "      <th>room_type_booked_code</th>\n",
       "      <th>roomnights</th>\n",
       "      <th>season_holidayed_code</th>\n",
       "      <th>state_code_residence</th>\n",
       "      <th>state_code_resort</th>\n",
       "      <th>total_pax</th>\n",
       "      <th>booking_type_code</th>\n",
       "    </tr>\n",
       "  </thead>\n",
       "  <tbody>\n",
       "    <tr>\n",
       "      <th>count</th>\n",
       "      <td>146765.000000</td>\n",
       "      <td>146765.000000</td>\n",
       "      <td>146765.000000</td>\n",
       "      <td>146765.000000</td>\n",
       "      <td>146765.000000</td>\n",
       "      <td>146765.000000</td>\n",
       "      <td>146765.000000</td>\n",
       "      <td>146765.000000</td>\n",
       "      <td>146765.000000</td>\n",
       "      <td>146730.000000</td>\n",
       "      <td>144505.000000</td>\n",
       "      <td>146765.000000</td>\n",
       "      <td>146765.000000</td>\n",
       "      <td>146765.000000</td>\n",
       "    </tr>\n",
       "    <tr>\n",
       "      <th>mean</th>\n",
       "      <td>1.902068</td>\n",
       "      <td>2.204483</td>\n",
       "      <td>3.275897</td>\n",
       "      <td>0.362287</td>\n",
       "      <td>209.179852</td>\n",
       "      <td>1.774101</td>\n",
       "      <td>2.196675</td>\n",
       "      <td>2.888754</td>\n",
       "      <td>3.730372</td>\n",
       "      <td>2.681088</td>\n",
       "      <td>7.254206</td>\n",
       "      <td>4.750560</td>\n",
       "      <td>3.188410</td>\n",
       "      <td>1.123354</td>\n",
       "    </tr>\n",
       "    <tr>\n",
       "      <th>std</th>\n",
       "      <td>0.914653</td>\n",
       "      <td>0.817804</td>\n",
       "      <td>1.783842</td>\n",
       "      <td>0.758218</td>\n",
       "      <td>862.926844</td>\n",
       "      <td>0.753281</td>\n",
       "      <td>1.544679</td>\n",
       "      <td>0.804043</td>\n",
       "      <td>2.482388</td>\n",
       "      <td>0.882366</td>\n",
       "      <td>4.755982</td>\n",
       "      <td>3.101036</td>\n",
       "      <td>1.163872</td>\n",
       "      <td>0.328844</td>\n",
       "    </tr>\n",
       "    <tr>\n",
       "      <th>min</th>\n",
       "      <td>1.000000</td>\n",
       "      <td>1.000000</td>\n",
       "      <td>0.000000</td>\n",
       "      <td>0.000000</td>\n",
       "      <td>45.000000</td>\n",
       "      <td>1.000000</td>\n",
       "      <td>0.000000</td>\n",
       "      <td>1.000000</td>\n",
       "      <td>0.000000</td>\n",
       "      <td>1.000000</td>\n",
       "      <td>1.000000</td>\n",
       "      <td>1.000000</td>\n",
       "      <td>0.000000</td>\n",
       "      <td>1.000000</td>\n",
       "    </tr>\n",
       "    <tr>\n",
       "      <th>25%</th>\n",
       "      <td>1.000000</td>\n",
       "      <td>2.000000</td>\n",
       "      <td>2.000000</td>\n",
       "      <td>0.000000</td>\n",
       "      <td>45.000000</td>\n",
       "      <td>1.000000</td>\n",
       "      <td>1.000000</td>\n",
       "      <td>2.000000</td>\n",
       "      <td>2.000000</td>\n",
       "      <td>2.000000</td>\n",
       "      <td>4.000000</td>\n",
       "      <td>2.000000</td>\n",
       "      <td>2.000000</td>\n",
       "      <td>1.000000</td>\n",
       "    </tr>\n",
       "    <tr>\n",
       "      <th>50%</th>\n",
       "      <td>2.000000</td>\n",
       "      <td>2.000000</td>\n",
       "      <td>3.000000</td>\n",
       "      <td>0.000000</td>\n",
       "      <td>45.000000</td>\n",
       "      <td>2.000000</td>\n",
       "      <td>2.000000</td>\n",
       "      <td>3.000000</td>\n",
       "      <td>3.000000</td>\n",
       "      <td>3.000000</td>\n",
       "      <td>8.000000</td>\n",
       "      <td>5.000000</td>\n",
       "      <td>3.000000</td>\n",
       "      <td>1.000000</td>\n",
       "    </tr>\n",
       "    <tr>\n",
       "      <th>75%</th>\n",
       "      <td>3.000000</td>\n",
       "      <td>3.000000</td>\n",
       "      <td>4.000000</td>\n",
       "      <td>0.000000</td>\n",
       "      <td>45.000000</td>\n",
       "      <td>2.000000</td>\n",
       "      <td>3.000000</td>\n",
       "      <td>3.000000</td>\n",
       "      <td>4.000000</td>\n",
       "      <td>3.000000</td>\n",
       "      <td>8.000000</td>\n",
       "      <td>7.000000</td>\n",
       "      <td>4.000000</td>\n",
       "      <td>1.000000</td>\n",
       "    </tr>\n",
       "    <tr>\n",
       "      <th>max</th>\n",
       "      <td>3.000000</td>\n",
       "      <td>7.000000</td>\n",
       "      <td>32.000000</td>\n",
       "      <td>10.000000</td>\n",
       "      <td>4995.000000</td>\n",
       "      <td>3.000000</td>\n",
       "      <td>7.000000</td>\n",
       "      <td>6.000000</td>\n",
       "      <td>80.000000</td>\n",
       "      <td>4.000000</td>\n",
       "      <td>38.000000</td>\n",
       "      <td>13.000000</td>\n",
       "      <td>21.000000</td>\n",
       "      <td>2.000000</td>\n",
       "    </tr>\n",
       "  </tbody>\n",
       "</table>\n",
       "</div>"
      ],
      "text/plain": [
       "        channel_code  main_product_code  numberofadults  numberofchildren  \\\n",
       "count  146765.000000      146765.000000   146765.000000     146765.000000   \n",
       "mean        1.902068           2.204483        3.275897          0.362287   \n",
       "std         0.914653           0.817804        1.783842          0.758218   \n",
       "min         1.000000           1.000000        0.000000          0.000000   \n",
       "25%         1.000000           2.000000        2.000000          0.000000   \n",
       "50%         2.000000           2.000000        3.000000          0.000000   \n",
       "75%         3.000000           3.000000        4.000000          0.000000   \n",
       "max         3.000000           7.000000       32.000000         10.000000   \n",
       "\n",
       "       persontravellingid  resort_region_code  resort_type_code  \\\n",
       "count       146765.000000       146765.000000     146765.000000   \n",
       "mean           209.179852            1.774101          2.196675   \n",
       "std            862.926844            0.753281          1.544679   \n",
       "min             45.000000            1.000000          0.000000   \n",
       "25%             45.000000            1.000000          1.000000   \n",
       "50%             45.000000            2.000000          2.000000   \n",
       "75%             45.000000            2.000000          3.000000   \n",
       "max           4995.000000            3.000000          7.000000   \n",
       "\n",
       "       room_type_booked_code     roomnights  season_holidayed_code  \\\n",
       "count          146765.000000  146765.000000          146730.000000   \n",
       "mean                2.888754       3.730372               2.681088   \n",
       "std                 0.804043       2.482388               0.882366   \n",
       "min                 1.000000       0.000000               1.000000   \n",
       "25%                 2.000000       2.000000               2.000000   \n",
       "50%                 3.000000       3.000000               3.000000   \n",
       "75%                 3.000000       4.000000               3.000000   \n",
       "max                 6.000000      80.000000               4.000000   \n",
       "\n",
       "       state_code_residence  state_code_resort      total_pax  \\\n",
       "count         144505.000000      146765.000000  146765.000000   \n",
       "mean               7.254206           4.750560       3.188410   \n",
       "std                4.755982           3.101036       1.163872   \n",
       "min                1.000000           1.000000       0.000000   \n",
       "25%                4.000000           2.000000       2.000000   \n",
       "50%                8.000000           5.000000       3.000000   \n",
       "75%                8.000000           7.000000       4.000000   \n",
       "max               38.000000          13.000000      21.000000   \n",
       "\n",
       "       booking_type_code  \n",
       "count      146765.000000  \n",
       "mean            1.123354  \n",
       "std             0.328844  \n",
       "min             1.000000  \n",
       "25%             1.000000  \n",
       "50%             1.000000  \n",
       "75%             1.000000  \n",
       "max             2.000000  "
      ]
     },
     "execution_count": 9,
     "metadata": {},
     "output_type": "execute_result"
    }
   ],
   "source": [
    "test.describe()"
   ]
  },
  {
   "cell_type": "code",
   "execution_count": 10,
   "metadata": {},
   "outputs": [
    {
     "name": "stdout",
     "output_type": "stream",
     "text": [
      "<class 'pandas.core.frame.DataFrame'>\n",
      "RangeIndex: 341424 entries, 0 to 341423\n",
      "Data columns (total 24 columns):\n",
      "reservation_id                        341424 non-null object\n",
      "booking_date                          341424 non-null object\n",
      "checkin_date                          341424 non-null object\n",
      "checkout_date                         341424 non-null object\n",
      "channel_code                          341424 non-null int64\n",
      "main_product_code                     341424 non-null int64\n",
      "numberofadults                        341424 non-null int64\n",
      "numberofchildren                      341424 non-null int64\n",
      "persontravellingid                    341424 non-null int64\n",
      "resort_region_code                    341424 non-null int64\n",
      "resort_type_code                      341424 non-null int64\n",
      "room_type_booked_code                 341424 non-null int64\n",
      "roomnights                            341424 non-null int64\n",
      "season_holidayed_code                 341310 non-null float64\n",
      "state_code_residence                  336660 non-null float64\n",
      "state_code_resort                     341424 non-null int64\n",
      "total_pax                             341424 non-null int64\n",
      "member_age_buckets                    341424 non-null object\n",
      "booking_type_code                     341424 non-null int64\n",
      "memberid                              341424 non-null object\n",
      "cluster_code                          341424 non-null object\n",
      "reservationstatusid_code              341424 non-null object\n",
      "resort_id                             341424 non-null object\n",
      "amount_spent_per_room_night_scaled    341424 non-null float64\n",
      "dtypes: float64(3), int64(12), object(9)\n",
      "memory usage: 62.5+ MB\n"
     ]
    }
   ],
   "source": [
    "train.info()"
   ]
  },
  {
   "cell_type": "code",
   "execution_count": 11,
   "metadata": {},
   "outputs": [
    {
     "name": "stdout",
     "output_type": "stream",
     "text": [
      "<class 'pandas.core.frame.DataFrame'>\n",
      "RangeIndex: 146765 entries, 0 to 146764\n",
      "Data columns (total 23 columns):\n",
      "reservation_id              146765 non-null object\n",
      "booking_date                146765 non-null object\n",
      "checkin_date                146765 non-null object\n",
      "checkout_date               146765 non-null object\n",
      "channel_code                146765 non-null int64\n",
      "main_product_code           146765 non-null int64\n",
      "numberofadults              146765 non-null int64\n",
      "numberofchildren            146765 non-null int64\n",
      "persontravellingid          146765 non-null int64\n",
      "resort_region_code          146765 non-null int64\n",
      "resort_type_code            146765 non-null int64\n",
      "room_type_booked_code       146765 non-null int64\n",
      "roomnights                  146765 non-null int64\n",
      "season_holidayed_code       146730 non-null float64\n",
      "state_code_residence        144505 non-null float64\n",
      "state_code_resort           146765 non-null int64\n",
      "total_pax                   146765 non-null int64\n",
      "member_age_buckets          146765 non-null object\n",
      "booking_type_code           146765 non-null int64\n",
      "memberid                    146765 non-null object\n",
      "cluster_code                146765 non-null object\n",
      "reservationstatusid_code    146765 non-null object\n",
      "resort_id                   146765 non-null object\n",
      "dtypes: float64(2), int64(12), object(9)\n",
      "memory usage: 25.8+ MB\n"
     ]
    }
   ],
   "source": [
    "test.info()"
   ]
  },
  {
   "cell_type": "code",
   "execution_count": 12,
   "metadata": {},
   "outputs": [
    {
     "data": {
      "text/html": [
       "<div>\n",
       "<style scoped>\n",
       "    .dataframe tbody tr th:only-of-type {\n",
       "        vertical-align: middle;\n",
       "    }\n",
       "\n",
       "    .dataframe tbody tr th {\n",
       "        vertical-align: top;\n",
       "    }\n",
       "\n",
       "    .dataframe thead th {\n",
       "        text-align: right;\n",
       "    }\n",
       "</style>\n",
       "<table border=\"1\" class=\"dataframe\">\n",
       "  <thead>\n",
       "    <tr style=\"text-align: right;\">\n",
       "      <th></th>\n",
       "      <th>reservation_id</th>\n",
       "      <th>booking_date</th>\n",
       "      <th>checkin_date</th>\n",
       "      <th>checkout_date</th>\n",
       "      <th>member_age_buckets</th>\n",
       "      <th>memberid</th>\n",
       "      <th>cluster_code</th>\n",
       "      <th>reservationstatusid_code</th>\n",
       "      <th>resort_id</th>\n",
       "    </tr>\n",
       "  </thead>\n",
       "  <tbody>\n",
       "    <tr>\n",
       "      <th>count</th>\n",
       "      <td>341424</td>\n",
       "      <td>341424</td>\n",
       "      <td>341424</td>\n",
       "      <td>341424</td>\n",
       "      <td>341424</td>\n",
       "      <td>341424</td>\n",
       "      <td>341424</td>\n",
       "      <td>341424</td>\n",
       "      <td>341424</td>\n",
       "    </tr>\n",
       "    <tr>\n",
       "      <th>unique</th>\n",
       "      <td>341424</td>\n",
       "      <td>1621</td>\n",
       "      <td>1532</td>\n",
       "      <td>1531</td>\n",
       "      <td>10</td>\n",
       "      <td>101327</td>\n",
       "      <td>6</td>\n",
       "      <td>4</td>\n",
       "      <td>32</td>\n",
       "    </tr>\n",
       "    <tr>\n",
       "      <th>top</th>\n",
       "      <td>cfc9903112ec42e60338ccf73220a8f2313e06235c1d17...</td>\n",
       "      <td>02/09/16</td>\n",
       "      <td>08/10/16</td>\n",
       "      <td>21/10/18</td>\n",
       "      <td>D</td>\n",
       "      <td>81c5295dd0cd56d704882cd28c7c815658ba5796165b7d...</td>\n",
       "      <td>F</td>\n",
       "      <td>A</td>\n",
       "      <td>d4735e3a265e16eee03f59718b9b5d03019c07d8b6c51f...</td>\n",
       "    </tr>\n",
       "    <tr>\n",
       "      <th>freq</th>\n",
       "      <td>1</td>\n",
       "      <td>1353</td>\n",
       "      <td>460</td>\n",
       "      <td>491</td>\n",
       "      <td>67618</td>\n",
       "      <td>50</td>\n",
       "      <td>120623</td>\n",
       "      <td>312481</td>\n",
       "      <td>35331</td>\n",
       "    </tr>\n",
       "  </tbody>\n",
       "</table>\n",
       "</div>"
      ],
      "text/plain": [
       "                                           reservation_id booking_date  \\\n",
       "count                                              341424       341424   \n",
       "unique                                             341424         1621   \n",
       "top     cfc9903112ec42e60338ccf73220a8f2313e06235c1d17...     02/09/16   \n",
       "freq                                                    1         1353   \n",
       "\n",
       "       checkin_date checkout_date member_age_buckets  \\\n",
       "count        341424        341424             341424   \n",
       "unique         1532          1531                 10   \n",
       "top        08/10/16      21/10/18                  D   \n",
       "freq            460           491              67618   \n",
       "\n",
       "                                                 memberid cluster_code  \\\n",
       "count                                              341424       341424   \n",
       "unique                                             101327            6   \n",
       "top     81c5295dd0cd56d704882cd28c7c815658ba5796165b7d...            F   \n",
       "freq                                                   50       120623   \n",
       "\n",
       "       reservationstatusid_code  \\\n",
       "count                    341424   \n",
       "unique                        4   \n",
       "top                           A   \n",
       "freq                     312481   \n",
       "\n",
       "                                                resort_id  \n",
       "count                                              341424  \n",
       "unique                                                 32  \n",
       "top     d4735e3a265e16eee03f59718b9b5d03019c07d8b6c51f...  \n",
       "freq                                                35331  "
      ]
     },
     "execution_count": 12,
     "metadata": {},
     "output_type": "execute_result"
    }
   ],
   "source": [
    "train.describe(include='O')"
   ]
  },
  {
   "cell_type": "code",
   "execution_count": 13,
   "metadata": {},
   "outputs": [
    {
     "data": {
      "text/html": [
       "<div>\n",
       "<style scoped>\n",
       "    .dataframe tbody tr th:only-of-type {\n",
       "        vertical-align: middle;\n",
       "    }\n",
       "\n",
       "    .dataframe tbody tr th {\n",
       "        vertical-align: top;\n",
       "    }\n",
       "\n",
       "    .dataframe thead th {\n",
       "        text-align: right;\n",
       "    }\n",
       "</style>\n",
       "<table border=\"1\" class=\"dataframe\">\n",
       "  <thead>\n",
       "    <tr style=\"text-align: right;\">\n",
       "      <th></th>\n",
       "      <th>reservation_id</th>\n",
       "      <th>booking_date</th>\n",
       "      <th>checkin_date</th>\n",
       "      <th>checkout_date</th>\n",
       "      <th>member_age_buckets</th>\n",
       "      <th>memberid</th>\n",
       "      <th>cluster_code</th>\n",
       "      <th>reservationstatusid_code</th>\n",
       "      <th>resort_id</th>\n",
       "    </tr>\n",
       "  </thead>\n",
       "  <tbody>\n",
       "    <tr>\n",
       "      <th>count</th>\n",
       "      <td>146765</td>\n",
       "      <td>146765</td>\n",
       "      <td>146765</td>\n",
       "      <td>146765</td>\n",
       "      <td>146765</td>\n",
       "      <td>146765</td>\n",
       "      <td>146765</td>\n",
       "      <td>146765</td>\n",
       "      <td>146765</td>\n",
       "    </tr>\n",
       "    <tr>\n",
       "      <th>unique</th>\n",
       "      <td>146765</td>\n",
       "      <td>1619</td>\n",
       "      <td>1523</td>\n",
       "      <td>1524</td>\n",
       "      <td>10</td>\n",
       "      <td>43496</td>\n",
       "      <td>6</td>\n",
       "      <td>3</td>\n",
       "      <td>32</td>\n",
       "    </tr>\n",
       "    <tr>\n",
       "      <th>top</th>\n",
       "      <td>f8a95661585bd05118091c1fc375c95e7088e6889695e5...</td>\n",
       "      <td>02/09/16</td>\n",
       "      <td>05/01/19</td>\n",
       "      <td>21/10/18</td>\n",
       "      <td>E</td>\n",
       "      <td>decb017fcb0689095a8e32335fa6e6becf2958cd4c4143...</td>\n",
       "      <td>F</td>\n",
       "      <td>A</td>\n",
       "      <td>d4735e3a265e16eee03f59718b9b5d03019c07d8b6c51f...</td>\n",
       "    </tr>\n",
       "    <tr>\n",
       "      <th>freq</th>\n",
       "      <td>1</td>\n",
       "      <td>599</td>\n",
       "      <td>210</td>\n",
       "      <td>215</td>\n",
       "      <td>28941</td>\n",
       "      <td>37</td>\n",
       "      <td>52147</td>\n",
       "      <td>134262</td>\n",
       "      <td>15397</td>\n",
       "    </tr>\n",
       "  </tbody>\n",
       "</table>\n",
       "</div>"
      ],
      "text/plain": [
       "                                           reservation_id booking_date  \\\n",
       "count                                              146765       146765   \n",
       "unique                                             146765         1619   \n",
       "top     f8a95661585bd05118091c1fc375c95e7088e6889695e5...     02/09/16   \n",
       "freq                                                    1          599   \n",
       "\n",
       "       checkin_date checkout_date member_age_buckets  \\\n",
       "count        146765        146765             146765   \n",
       "unique         1523          1524                 10   \n",
       "top        05/01/19      21/10/18                  E   \n",
       "freq            210           215              28941   \n",
       "\n",
       "                                                 memberid cluster_code  \\\n",
       "count                                              146765       146765   \n",
       "unique                                              43496            6   \n",
       "top     decb017fcb0689095a8e32335fa6e6becf2958cd4c4143...            F   \n",
       "freq                                                   37        52147   \n",
       "\n",
       "       reservationstatusid_code  \\\n",
       "count                    146765   \n",
       "unique                        3   \n",
       "top                           A   \n",
       "freq                     134262   \n",
       "\n",
       "                                                resort_id  \n",
       "count                                              146765  \n",
       "unique                                                 32  \n",
       "top     d4735e3a265e16eee03f59718b9b5d03019c07d8b6c51f...  \n",
       "freq                                                15397  "
      ]
     },
     "execution_count": 13,
     "metadata": {},
     "output_type": "execute_result"
    }
   ],
   "source": [
    "test.describe(include='O')"
   ]
  },
  {
   "cell_type": "code",
   "execution_count": 14,
   "metadata": {},
   "outputs": [
    {
     "data": {
      "text/plain": [
       "reservation_id                           0\n",
       "booking_date                             0\n",
       "checkin_date                             0\n",
       "checkout_date                            0\n",
       "channel_code                             0\n",
       "main_product_code                        0\n",
       "numberofadults                           0\n",
       "numberofchildren                         0\n",
       "persontravellingid                       0\n",
       "resort_region_code                       0\n",
       "resort_type_code                         0\n",
       "room_type_booked_code                    0\n",
       "roomnights                               0\n",
       "season_holidayed_code                  114\n",
       "state_code_residence                  4764\n",
       "state_code_resort                        0\n",
       "total_pax                                0\n",
       "member_age_buckets                       0\n",
       "booking_type_code                        0\n",
       "memberid                                 0\n",
       "cluster_code                             0\n",
       "reservationstatusid_code                 0\n",
       "resort_id                                0\n",
       "amount_spent_per_room_night_scaled       0\n",
       "dtype: int64"
      ]
     },
     "execution_count": 14,
     "metadata": {},
     "output_type": "execute_result"
    }
   ],
   "source": [
    "train.isnull().sum()"
   ]
  },
  {
   "cell_type": "code",
   "execution_count": 15,
   "metadata": {},
   "outputs": [
    {
     "data": {
      "text/plain": [
       "reservation_id                 0\n",
       "booking_date                   0\n",
       "checkin_date                   0\n",
       "checkout_date                  0\n",
       "channel_code                   0\n",
       "main_product_code              0\n",
       "numberofadults                 0\n",
       "numberofchildren               0\n",
       "persontravellingid             0\n",
       "resort_region_code             0\n",
       "resort_type_code               0\n",
       "room_type_booked_code          0\n",
       "roomnights                     0\n",
       "season_holidayed_code         35\n",
       "state_code_residence        2260\n",
       "state_code_resort              0\n",
       "total_pax                      0\n",
       "member_age_buckets             0\n",
       "booking_type_code              0\n",
       "memberid                       0\n",
       "cluster_code                   0\n",
       "reservationstatusid_code       0\n",
       "resort_id                      0\n",
       "dtype: int64"
      ]
     },
     "execution_count": 15,
     "metadata": {},
     "output_type": "execute_result"
    }
   ],
   "source": [
    "test.isnull().sum()"
   ]
  },
  {
   "cell_type": "code",
   "execution_count": 16,
   "metadata": {},
   "outputs": [
    {
     "data": {
      "text/plain": [
       "Index(['reservation_id', 'booking_date', 'checkin_date', 'checkout_date',\n",
       "       'channel_code', 'main_product_code', 'numberofadults',\n",
       "       'numberofchildren', 'persontravellingid', 'resort_region_code',\n",
       "       'resort_type_code', 'room_type_booked_code', 'roomnights',\n",
       "       'season_holidayed_code', 'state_code_residence', 'state_code_resort',\n",
       "       'total_pax', 'member_age_buckets', 'booking_type_code', 'memberid',\n",
       "       'cluster_code', 'reservationstatusid_code', 'resort_id',\n",
       "       'amount_spent_per_room_night_scaled'],\n",
       "      dtype='object')"
      ]
     },
     "execution_count": 16,
     "metadata": {},
     "output_type": "execute_result"
    }
   ],
   "source": [
    "train.columns"
   ]
  },
  {
   "cell_type": "code",
   "execution_count": 17,
   "metadata": {},
   "outputs": [],
   "source": [
    "#train.dropna(inplace=True)"
   ]
  },
  {
   "cell_type": "code",
   "execution_count": 18,
   "metadata": {},
   "outputs": [],
   "source": [
    "#test.dropna(inplace=True)"
   ]
  },
  {
   "cell_type": "code",
   "execution_count": 19,
   "metadata": {},
   "outputs": [
    {
     "data": {
      "text/plain": [
       "(341424, 24)"
      ]
     },
     "execution_count": 19,
     "metadata": {},
     "output_type": "execute_result"
    }
   ],
   "source": [
    "train.shape"
   ]
  },
  {
   "cell_type": "code",
   "execution_count": 20,
   "metadata": {},
   "outputs": [
    {
     "data": {
      "text/plain": [
       "(146765, 23)"
      ]
     },
     "execution_count": 20,
     "metadata": {},
     "output_type": "execute_result"
    }
   ],
   "source": [
    "test.shape"
   ]
  },
  {
   "cell_type": "code",
   "execution_count": 21,
   "metadata": {},
   "outputs": [],
   "source": [
    "#train.drop(train.loc[train['numberofadults']==0].index,inplace=True)"
   ]
  },
  {
   "cell_type": "code",
   "execution_count": 22,
   "metadata": {},
   "outputs": [
    {
     "data": {
      "text/plain": [
       "(341424, 24)"
      ]
     },
     "execution_count": 22,
     "metadata": {},
     "output_type": "execute_result"
    }
   ],
   "source": [
    "train.shape"
   ]
  },
  {
   "cell_type": "code",
   "execution_count": 23,
   "metadata": {},
   "outputs": [],
   "source": [
    "#test.drop(test.loc[test['numberofadults']==0].index,inplace=True)"
   ]
  },
  {
   "cell_type": "code",
   "execution_count": 24,
   "metadata": {},
   "outputs": [
    {
     "data": {
      "text/plain": [
       "(146765, 23)"
      ]
     },
     "execution_count": 24,
     "metadata": {},
     "output_type": "execute_result"
    }
   ],
   "source": [
    "test.shape"
   ]
  },
  {
   "cell_type": "code",
   "execution_count": 25,
   "metadata": {},
   "outputs": [],
   "source": [
    "train_data = train.drop(['booking_date','checkin_date', 'checkout_date','memberid','resort_id','persontravellingid','season_holidayed_code', 'state_code_residence'],axis=1)"
   ]
  },
  {
   "cell_type": "code",
   "execution_count": 26,
   "metadata": {},
   "outputs": [
    {
     "data": {
      "text/plain": [
       "(341424, 16)"
      ]
     },
     "execution_count": 26,
     "metadata": {},
     "output_type": "execute_result"
    }
   ],
   "source": [
    "train_data.shape"
   ]
  },
  {
   "cell_type": "code",
   "execution_count": 27,
   "metadata": {},
   "outputs": [],
   "source": [
    "test_data =  test.drop(['booking_date','checkin_date', 'checkout_date','memberid','resort_id','persontravellingid','season_holidayed_code', 'state_code_residence'],axis=1)"
   ]
  },
  {
   "cell_type": "code",
   "execution_count": 28,
   "metadata": {},
   "outputs": [
    {
     "data": {
      "text/plain": [
       "(146765, 15)"
      ]
     },
     "execution_count": 28,
     "metadata": {},
     "output_type": "execute_result"
    }
   ],
   "source": [
    "test_data.shape"
   ]
  },
  {
   "cell_type": "code",
   "execution_count": 29,
   "metadata": {},
   "outputs": [],
   "source": [
    "#train_data['booking_date'] = pd.to_datetime(train['booking_date'])\n",
    "#test_data['booking_date'] = pd.to_datetime(test['booking_date'])"
   ]
  },
  {
   "cell_type": "code",
   "execution_count": null,
   "metadata": {},
   "outputs": [],
   "source": []
  },
  {
   "cell_type": "code",
   "execution_count": 30,
   "metadata": {},
   "outputs": [],
   "source": [
    "import re\n",
    "def add_date(df,fldname):\n",
    "    fld = df[fldname]\n",
    "    targ_pre = re.sub('[Dd]ate$','',fldname)\n",
    "    for n in ('Year','Month', 'Week', 'Day', 'Dayofweek', 'Dayofyear', 'Is_month_end', 'Is_month_start', 'Is_quarter_end', \n",
    "              'Is_quarter_start', 'Is_year_end', 'Is_year_start'):\n",
    "        df[targ_pre+n] = getattr(fld.dt,n.lower())\n",
    "    df[targ_pre+'Elapsed']=(fld-fld.min()).dt.days\n",
    "    df.drop(fldname,axis=1,inplace=True)"
   ]
  },
  {
   "cell_type": "code",
   "execution_count": 31,
   "metadata": {},
   "outputs": [],
   "source": [
    "add_date(train_data,'booking_date')"
   ]
  },
  {
   "cell_type": "code",
   "execution_count": 32,
   "metadata": {},
   "outputs": [],
   "source": [
    "add_date(test_data,'booking_date')"
   ]
  },
  {
   "cell_type": "code",
   "execution_count": 31,
   "metadata": {},
   "outputs": [
    {
     "data": {
      "text/plain": [
       "(341424, 17)"
      ]
     },
     "execution_count": 31,
     "metadata": {},
     "output_type": "execute_result"
    }
   ],
   "source": [
    "train_data.shape"
   ]
  },
  {
   "cell_type": "code",
   "execution_count": 32,
   "metadata": {},
   "outputs": [
    {
     "data": {
      "text/plain": [
       "(146765, 16)"
      ]
     },
     "execution_count": 32,
     "metadata": {},
     "output_type": "execute_result"
    }
   ],
   "source": [
    "test_data.shape"
   ]
  },
  {
   "cell_type": "code",
   "execution_count": 33,
   "metadata": {},
   "outputs": [
    {
     "data": {
      "text/plain": [
       "reservation_id                                object\n",
       "channel_code                                   int64\n",
       "main_product_code                              int64\n",
       "numberofadults                                 int64\n",
       "numberofchildren                               int64\n",
       "resort_region_code                             int64\n",
       "resort_type_code                               int64\n",
       "room_type_booked_code                          int64\n",
       "roomnights                                     int64\n",
       "state_code_resort                              int64\n",
       "total_pax                                      int64\n",
       "member_age_buckets                            object\n",
       "booking_type_code                              int64\n",
       "cluster_code                                  object\n",
       "reservationstatusid_code                      object\n",
       "amount_spent_per_room_night_scaled           float64\n",
       "booking_date                          datetime64[ns]\n",
       "dtype: object"
      ]
     },
     "execution_count": 33,
     "metadata": {},
     "output_type": "execute_result"
    }
   ],
   "source": [
    "train_data.dtypes"
   ]
  },
  {
   "cell_type": "code",
   "execution_count": 34,
   "metadata": {},
   "outputs": [],
   "source": [
    "#cols = [['channel_code','main_product_code','resort_region_code','resort_type_code','room_type_booked_code','season_holidayed_code','state_code_residence','state_code_resort','booking_type_code']]\n",
    "#for c in cols:\n",
    "    #train_data[c] = train_data[c].astype('category')\n",
    "    #test_data[c] = test_data[c].astype('category')"
   ]
  },
  {
   "cell_type": "code",
   "execution_count": 30,
   "metadata": {},
   "outputs": [
    {
     "data": {
      "text/plain": [
       "reservation_id                         object\n",
       "channel_code                            int64\n",
       "main_product_code                       int64\n",
       "numberofadults                          int64\n",
       "numberofchildren                        int64\n",
       "resort_region_code                      int64\n",
       "resort_type_code                        int64\n",
       "room_type_booked_code                   int64\n",
       "roomnights                              int64\n",
       "state_code_resort                       int64\n",
       "total_pax                               int64\n",
       "member_age_buckets                     object\n",
       "booking_type_code                       int64\n",
       "cluster_code                           object\n",
       "reservationstatusid_code               object\n",
       "amount_spent_per_room_night_scaled    float64\n",
       "dtype: object"
      ]
     },
     "execution_count": 30,
     "metadata": {},
     "output_type": "execute_result"
    }
   ],
   "source": [
    "train_data.dtypes"
   ]
  },
  {
   "cell_type": "code",
   "execution_count": 31,
   "metadata": {},
   "outputs": [
    {
     "data": {
      "text/plain": [
       "reservation_id              object\n",
       "channel_code                 int64\n",
       "main_product_code            int64\n",
       "numberofadults               int64\n",
       "numberofchildren             int64\n",
       "resort_region_code           int64\n",
       "resort_type_code             int64\n",
       "room_type_booked_code        int64\n",
       "roomnights                   int64\n",
       "state_code_resort            int64\n",
       "total_pax                    int64\n",
       "member_age_buckets          object\n",
       "booking_type_code            int64\n",
       "cluster_code                object\n",
       "reservationstatusid_code    object\n",
       "dtype: object"
      ]
     },
     "execution_count": 31,
     "metadata": {},
     "output_type": "execute_result"
    }
   ],
   "source": [
    "test_data.dtypes"
   ]
  },
  {
   "cell_type": "code",
   "execution_count": 32,
   "metadata": {},
   "outputs": [
    {
     "data": {
      "text/plain": [
       "reservation_id              object\n",
       "member_age_buckets          object\n",
       "cluster_code                object\n",
       "reservationstatusid_code    object\n",
       "dtype: object"
      ]
     },
     "execution_count": 32,
     "metadata": {},
     "output_type": "execute_result"
    }
   ],
   "source": [
    "cols_ob = train_data.dtypes[train_data.dtypes==\"object\"]\n",
    "cols_ob"
   ]
  },
  {
   "cell_type": "code",
   "execution_count": 33,
   "metadata": {},
   "outputs": [],
   "source": [
    "train_dataid = train_data.reservation_id\n",
    "test_dataid = test_data.reservation_id\n",
    "y_amount = train_data.amount_spent_per_room_night_scaled"
   ]
  },
  {
   "cell_type": "code",
   "execution_count": 34,
   "metadata": {},
   "outputs": [],
   "source": [
    "train_data = train_data.drop(['reservation_id','amount_spent_per_room_night_scaled'],axis=1)\n",
    "test_data = test_data.drop(['reservation_id'],axis=1)"
   ]
  },
  {
   "cell_type": "code",
   "execution_count": 35,
   "metadata": {},
   "outputs": [],
   "source": [
    "combined_data = pd.concat([train_data,test_data],ignore_index=True)"
   ]
  },
  {
   "cell_type": "code",
   "execution_count": 36,
   "metadata": {},
   "outputs": [],
   "source": [
    "cols = [['channel_code','main_product_code','resort_region_code','resort_type_code','room_type_booked_code','state_code_resort','booking_type_code']]\n",
    "for c in cols:\n",
    "    combined_data[c] = combined_data[c].astype('category')\n",
    "    #test_data[c] = test_data[c].astype('category')"
   ]
  },
  {
   "cell_type": "code",
   "execution_count": 37,
   "metadata": {},
   "outputs": [],
   "source": [
    "from pandas.api.types import is_string_dtype, is_numeric_dtype"
   ]
  },
  {
   "cell_type": "code",
   "execution_count": 38,
   "metadata": {},
   "outputs": [],
   "source": [
    "def train_cats(df):\n",
    "    for n,c in df.items():\n",
    "        if is_string_dtype(c):\n",
    "            df[n]=c.astype('category').cat.as_ordered()"
   ]
  },
  {
   "cell_type": "code",
   "execution_count": 39,
   "metadata": {},
   "outputs": [],
   "source": [
    "#train_cats(train_data)"
   ]
  },
  {
   "cell_type": "code",
   "execution_count": 40,
   "metadata": {},
   "outputs": [],
   "source": [
    "#train_data.dtypes"
   ]
  },
  {
   "cell_type": "code",
   "execution_count": 41,
   "metadata": {},
   "outputs": [],
   "source": [
    "#train_cats(test_data)"
   ]
  },
  {
   "cell_type": "raw",
   "metadata": {},
   "source": []
  },
  {
   "cell_type": "code",
   "execution_count": 42,
   "metadata": {},
   "outputs": [],
   "source": [
    "#test_data.dtypes"
   ]
  },
  {
   "cell_type": "code",
   "execution_count": 43,
   "metadata": {},
   "outputs": [],
   "source": [
    "train_cats(combined_data)"
   ]
  },
  {
   "cell_type": "code",
   "execution_count": 44,
   "metadata": {},
   "outputs": [],
   "source": [
    "#train_data[train_data.select_dtypes(['category']).columns] = train_data.select_dtypes(['category']).apply(lambda x:x.cat.codes)"
   ]
  },
  {
   "cell_type": "code",
   "execution_count": 45,
   "metadata": {},
   "outputs": [],
   "source": [
    "combined_data[combined_data.select_dtypes(['category']).columns] = combined_data.select_dtypes(['category']).apply(lambda x:x.cat.codes)"
   ]
  },
  {
   "cell_type": "code",
   "execution_count": 46,
   "metadata": {},
   "outputs": [],
   "source": [
    "#test_data[test_data.select_dtypes(['category']).columns] = test_data.select_dtypes(['category']).apply(lambda x:x.cat.codes)"
   ]
  },
  {
   "cell_type": "code",
   "execution_count": 47,
   "metadata": {},
   "outputs": [],
   "source": [
    "#train_data.head()"
   ]
  },
  {
   "cell_type": "code",
   "execution_count": 48,
   "metadata": {},
   "outputs": [],
   "source": [
    "#test_data.head()"
   ]
  },
  {
   "cell_type": "code",
   "execution_count": 49,
   "metadata": {},
   "outputs": [],
   "source": [
    "#print(train_data.shape)\n",
    "#print(test_data.shape)"
   ]
  },
  {
   "cell_type": "code",
   "execution_count": 50,
   "metadata": {},
   "outputs": [],
   "source": [
    "#combined = pd.concat([train_data,test_data],ignore_index=True)"
   ]
  },
  {
   "cell_type": "code",
   "execution_count": 51,
   "metadata": {},
   "outputs": [
    {
     "data": {
      "text/html": [
       "<div>\n",
       "<style scoped>\n",
       "    .dataframe tbody tr th:only-of-type {\n",
       "        vertical-align: middle;\n",
       "    }\n",
       "\n",
       "    .dataframe tbody tr th {\n",
       "        vertical-align: top;\n",
       "    }\n",
       "\n",
       "    .dataframe thead th {\n",
       "        text-align: right;\n",
       "    }\n",
       "</style>\n",
       "<table border=\"1\" class=\"dataframe\">\n",
       "  <thead>\n",
       "    <tr style=\"text-align: right;\">\n",
       "      <th></th>\n",
       "      <th>channel_code</th>\n",
       "      <th>main_product_code</th>\n",
       "      <th>numberofadults</th>\n",
       "      <th>numberofchildren</th>\n",
       "      <th>resort_region_code</th>\n",
       "      <th>resort_type_code</th>\n",
       "      <th>room_type_booked_code</th>\n",
       "      <th>roomnights</th>\n",
       "      <th>state_code_resort</th>\n",
       "      <th>total_pax</th>\n",
       "      <th>member_age_buckets</th>\n",
       "      <th>booking_type_code</th>\n",
       "      <th>cluster_code</th>\n",
       "      <th>reservationstatusid_code</th>\n",
       "    </tr>\n",
       "  </thead>\n",
       "  <tbody>\n",
       "    <tr>\n",
       "      <th>0</th>\n",
       "      <td>2</td>\n",
       "      <td>0</td>\n",
       "      <td>2</td>\n",
       "      <td>0</td>\n",
       "      <td>2</td>\n",
       "      <td>3</td>\n",
       "      <td>2</td>\n",
       "      <td>1</td>\n",
       "      <td>2</td>\n",
       "      <td>3</td>\n",
       "      <td>5</td>\n",
       "      <td>0</td>\n",
       "      <td>5</td>\n",
       "      <td>2</td>\n",
       "    </tr>\n",
       "    <tr>\n",
       "      <th>1</th>\n",
       "      <td>0</td>\n",
       "      <td>0</td>\n",
       "      <td>2</td>\n",
       "      <td>0</td>\n",
       "      <td>2</td>\n",
       "      <td>3</td>\n",
       "      <td>3</td>\n",
       "      <td>5</td>\n",
       "      <td>4</td>\n",
       "      <td>2</td>\n",
       "      <td>5</td>\n",
       "      <td>0</td>\n",
       "      <td>5</td>\n",
       "      <td>0</td>\n",
       "    </tr>\n",
       "    <tr>\n",
       "      <th>2</th>\n",
       "      <td>0</td>\n",
       "      <td>0</td>\n",
       "      <td>2</td>\n",
       "      <td>0</td>\n",
       "      <td>0</td>\n",
       "      <td>5</td>\n",
       "      <td>3</td>\n",
       "      <td>4</td>\n",
       "      <td>0</td>\n",
       "      <td>2</td>\n",
       "      <td>5</td>\n",
       "      <td>0</td>\n",
       "      <td>4</td>\n",
       "      <td>0</td>\n",
       "    </tr>\n",
       "    <tr>\n",
       "      <th>3</th>\n",
       "      <td>0</td>\n",
       "      <td>0</td>\n",
       "      <td>2</td>\n",
       "      <td>2</td>\n",
       "      <td>1</td>\n",
       "      <td>2</td>\n",
       "      <td>2</td>\n",
       "      <td>5</td>\n",
       "      <td>1</td>\n",
       "      <td>2</td>\n",
       "      <td>5</td>\n",
       "      <td>0</td>\n",
       "      <td>3</td>\n",
       "      <td>0</td>\n",
       "    </tr>\n",
       "    <tr>\n",
       "      <th>4</th>\n",
       "      <td>0</td>\n",
       "      <td>0</td>\n",
       "      <td>2</td>\n",
       "      <td>0</td>\n",
       "      <td>1</td>\n",
       "      <td>2</td>\n",
       "      <td>3</td>\n",
       "      <td>5</td>\n",
       "      <td>1</td>\n",
       "      <td>2</td>\n",
       "      <td>5</td>\n",
       "      <td>0</td>\n",
       "      <td>3</td>\n",
       "      <td>0</td>\n",
       "    </tr>\n",
       "  </tbody>\n",
       "</table>\n",
       "</div>"
      ],
      "text/plain": [
       "   channel_code  main_product_code  numberofadults  numberofchildren  \\\n",
       "0             2                  0               2                 0   \n",
       "1             0                  0               2                 0   \n",
       "2             0                  0               2                 0   \n",
       "3             0                  0               2                 2   \n",
       "4             0                  0               2                 0   \n",
       "\n",
       "   resort_region_code  resort_type_code  room_type_booked_code  roomnights  \\\n",
       "0                   2                 3                      2           1   \n",
       "1                   2                 3                      3           5   \n",
       "2                   0                 5                      3           4   \n",
       "3                   1                 2                      2           5   \n",
       "4                   1                 2                      3           5   \n",
       "\n",
       "   state_code_resort  total_pax  member_age_buckets  booking_type_code  \\\n",
       "0                  2          3                   5                  0   \n",
       "1                  4          2                   5                  0   \n",
       "2                  0          2                   5                  0   \n",
       "3                  1          2                   5                  0   \n",
       "4                  1          2                   5                  0   \n",
       "\n",
       "   cluster_code  reservationstatusid_code  \n",
       "0             5                         2  \n",
       "1             5                         0  \n",
       "2             4                         0  \n",
       "3             3                         0  \n",
       "4             3                         0  "
      ]
     },
     "execution_count": 51,
     "metadata": {},
     "output_type": "execute_result"
    }
   ],
   "source": [
    "combined_data.head()"
   ]
  },
  {
   "cell_type": "code",
   "execution_count": 52,
   "metadata": {},
   "outputs": [],
   "source": [
    "#train_dataid = train_data.reservation_id\n",
    "#test_dataid = test_data.reservation_id"
   ]
  },
  {
   "cell_type": "code",
   "execution_count": 53,
   "metadata": {},
   "outputs": [],
   "source": [
    "#y_amount = train_data.amount_spent_per_room_night_scaled"
   ]
  },
  {
   "cell_type": "code",
   "execution_count": 54,
   "metadata": {},
   "outputs": [],
   "source": [
    "#train_data = train_data.drop(['reservation_id','amount_spent_per_room_night_scaled'],axis=1)\n",
    "#test_data = test_data.drop(['reservation_id'],axis=1)"
   ]
  },
  {
   "cell_type": "code",
   "execution_count": 55,
   "metadata": {},
   "outputs": [],
   "source": [
    "#combined_data = pd.concat([train_data,test_data],ignore_index=True)"
   ]
  },
  {
   "cell_type": "code",
   "execution_count": 56,
   "metadata": {},
   "outputs": [
    {
     "data": {
      "text/html": [
       "<div>\n",
       "<style scoped>\n",
       "    .dataframe tbody tr th:only-of-type {\n",
       "        vertical-align: middle;\n",
       "    }\n",
       "\n",
       "    .dataframe tbody tr th {\n",
       "        vertical-align: top;\n",
       "    }\n",
       "\n",
       "    .dataframe thead th {\n",
       "        text-align: right;\n",
       "    }\n",
       "</style>\n",
       "<table border=\"1\" class=\"dataframe\">\n",
       "  <thead>\n",
       "    <tr style=\"text-align: right;\">\n",
       "      <th></th>\n",
       "      <th>channel_code</th>\n",
       "      <th>main_product_code</th>\n",
       "      <th>numberofadults</th>\n",
       "      <th>numberofchildren</th>\n",
       "      <th>resort_region_code</th>\n",
       "      <th>resort_type_code</th>\n",
       "      <th>room_type_booked_code</th>\n",
       "      <th>roomnights</th>\n",
       "      <th>state_code_resort</th>\n",
       "      <th>total_pax</th>\n",
       "      <th>member_age_buckets</th>\n",
       "      <th>booking_type_code</th>\n",
       "      <th>cluster_code</th>\n",
       "      <th>reservationstatusid_code</th>\n",
       "    </tr>\n",
       "  </thead>\n",
       "  <tbody>\n",
       "    <tr>\n",
       "      <th>320753</th>\n",
       "      <td>2</td>\n",
       "      <td>2</td>\n",
       "      <td>3</td>\n",
       "      <td>0</td>\n",
       "      <td>2</td>\n",
       "      <td>1</td>\n",
       "      <td>2</td>\n",
       "      <td>3</td>\n",
       "      <td>4</td>\n",
       "      <td>4</td>\n",
       "      <td>1</td>\n",
       "      <td>0</td>\n",
       "      <td>5</td>\n",
       "      <td>0</td>\n",
       "    </tr>\n",
       "    <tr>\n",
       "      <th>30505</th>\n",
       "      <td>0</td>\n",
       "      <td>1</td>\n",
       "      <td>2</td>\n",
       "      <td>2</td>\n",
       "      <td>1</td>\n",
       "      <td>2</td>\n",
       "      <td>2</td>\n",
       "      <td>3</td>\n",
       "      <td>1</td>\n",
       "      <td>4</td>\n",
       "      <td>3</td>\n",
       "      <td>0</td>\n",
       "      <td>3</td>\n",
       "      <td>0</td>\n",
       "    </tr>\n",
       "    <tr>\n",
       "      <th>394228</th>\n",
       "      <td>2</td>\n",
       "      <td>0</td>\n",
       "      <td>2</td>\n",
       "      <td>0</td>\n",
       "      <td>1</td>\n",
       "      <td>4</td>\n",
       "      <td>1</td>\n",
       "      <td>3</td>\n",
       "      <td>10</td>\n",
       "      <td>4</td>\n",
       "      <td>7</td>\n",
       "      <td>0</td>\n",
       "      <td>1</td>\n",
       "      <td>0</td>\n",
       "    </tr>\n",
       "    <tr>\n",
       "      <th>417695</th>\n",
       "      <td>0</td>\n",
       "      <td>2</td>\n",
       "      <td>3</td>\n",
       "      <td>1</td>\n",
       "      <td>0</td>\n",
       "      <td>1</td>\n",
       "      <td>2</td>\n",
       "      <td>4</td>\n",
       "      <td>5</td>\n",
       "      <td>3</td>\n",
       "      <td>3</td>\n",
       "      <td>0</td>\n",
       "      <td>5</td>\n",
       "      <td>0</td>\n",
       "    </tr>\n",
       "    <tr>\n",
       "      <th>276242</th>\n",
       "      <td>0</td>\n",
       "      <td>3</td>\n",
       "      <td>3</td>\n",
       "      <td>0</td>\n",
       "      <td>2</td>\n",
       "      <td>3</td>\n",
       "      <td>1</td>\n",
       "      <td>3</td>\n",
       "      <td>4</td>\n",
       "      <td>3</td>\n",
       "      <td>5</td>\n",
       "      <td>0</td>\n",
       "      <td>5</td>\n",
       "      <td>0</td>\n",
       "    </tr>\n",
       "  </tbody>\n",
       "</table>\n",
       "</div>"
      ],
      "text/plain": [
       "        channel_code  main_product_code  numberofadults  numberofchildren  \\\n",
       "320753             2                  2               3                 0   \n",
       "30505              0                  1               2                 2   \n",
       "394228             2                  0               2                 0   \n",
       "417695             0                  2               3                 1   \n",
       "276242             0                  3               3                 0   \n",
       "\n",
       "        resort_region_code  resort_type_code  room_type_booked_code  \\\n",
       "320753                   2                 1                      2   \n",
       "30505                    1                 2                      2   \n",
       "394228                   1                 4                      1   \n",
       "417695                   0                 1                      2   \n",
       "276242                   2                 3                      1   \n",
       "\n",
       "        roomnights  state_code_resort  total_pax  member_age_buckets  \\\n",
       "320753           3                  4          4                   1   \n",
       "30505            3                  1          4                   3   \n",
       "394228           3                 10          4                   7   \n",
       "417695           4                  5          3                   3   \n",
       "276242           3                  4          3                   5   \n",
       "\n",
       "        booking_type_code  cluster_code  reservationstatusid_code  \n",
       "320753                  0             5                         0  \n",
       "30505                   0             3                         0  \n",
       "394228                  0             1                         0  \n",
       "417695                  0             5                         0  \n",
       "276242                  0             5                         0  "
      ]
     },
     "execution_count": 56,
     "metadata": {},
     "output_type": "execute_result"
    }
   ],
   "source": [
    "combined_data.sample(5)"
   ]
  },
  {
   "cell_type": "code",
   "execution_count": 57,
   "metadata": {},
   "outputs": [
    {
     "data": {
      "text/plain": [
       "channel_code                0\n",
       "main_product_code           0\n",
       "numberofadults              0\n",
       "numberofchildren            0\n",
       "resort_region_code          0\n",
       "resort_type_code            0\n",
       "room_type_booked_code       0\n",
       "roomnights                  0\n",
       "state_code_resort           0\n",
       "total_pax                   0\n",
       "member_age_buckets          0\n",
       "booking_type_code           0\n",
       "cluster_code                0\n",
       "reservationstatusid_code    0\n",
       "dtype: int64"
      ]
     },
     "execution_count": 57,
     "metadata": {},
     "output_type": "execute_result"
    }
   ],
   "source": [
    "combined_data.isnull().sum()"
   ]
  },
  {
   "cell_type": "code",
   "execution_count": 58,
   "metadata": {},
   "outputs": [],
   "source": [
    "X_train = combined_data[:len(train_data)]\n",
    "X_test = combined_data[len(train_data):]"
   ]
  },
  {
   "cell_type": "code",
   "execution_count": null,
   "metadata": {},
   "outputs": [],
   "source": []
  },
  {
   "cell_type": "code",
   "execution_count": 64,
   "metadata": {},
   "outputs": [],
   "source": [
    "from sklearn.model_selection import KFold, cross_val_score, train_test_split\n",
    "from xgboost import XGBRegressor\n",
    "from sklearn.metrics import mean_squared_error, r2_score"
   ]
  },
  {
   "cell_type": "code",
   "execution_count": 65,
   "metadata": {},
   "outputs": [],
   "source": [
    "trainX, testX, trainY, testY = train_test_split(X_train, y_amount,test_size = 0.2, random_state = 0) \n",
    "from  sklearn.preprocessing  import MinMaxScaler\n",
    "slc= MinMaxScaler()\n",
    "trainX = slc.fit_transform(trainX)\n",
    "X_test = slc.transform(X_test)\n",
    "testX = slc.transform(testX)"
   ]
  },
  {
   "cell_type": "code",
   "execution_count": 66,
   "metadata": {},
   "outputs": [],
   "source": [
    "num_folds = 5\n",
    "seed = 0\n",
    "scoring = 'neg_mean_squared_error'\n",
    "kfold = KFold(n_splits=num_folds, random_state=seed)"
   ]
  },
  {
   "cell_type": "code",
   "execution_count": 67,
   "metadata": {},
   "outputs": [],
   "source": [
    "model = XGBRegressor(n_estimators=100,n_jobs=-1,gamma=0.3,random_state=0,reg_lambda=2)\n",
    "score_= cross_val_score(model, trainX, trainY, cv=kfold, scoring=scoring)"
   ]
  },
  {
   "cell_type": "code",
   "execution_count": 68,
   "metadata": {},
   "outputs": [
    {
     "name": "stdout",
     "output_type": "stream",
     "text": [
      "0.09123510394113521\n"
     ]
    }
   ],
   "source": [
    "model.fit(trainX, trainY)\n",
    "predictions = model.predict(testX)\n",
    "print(r2_score(testY, predictions))"
   ]
  },
  {
   "cell_type": "code",
   "execution_count": 69,
   "metadata": {},
   "outputs": [
    {
     "data": {
      "text/plain": [
       "1.040824558081732"
      ]
     },
     "execution_count": 69,
     "metadata": {},
     "output_type": "execute_result"
    }
   ],
   "source": [
    "rmse = np.sqrt(mean_squared_error(testY, predictions))\n",
    "rmse"
   ]
  },
  {
   "cell_type": "code",
   "execution_count": 70,
   "metadata": {},
   "outputs": [],
   "source": [
    "from sklearn.ensemble import RandomForestRegressor"
   ]
  },
  {
   "cell_type": "code",
   "execution_count": 71,
   "metadata": {},
   "outputs": [
    {
     "name": "stdout",
     "output_type": "stream",
     "text": [
      "0.09669863889936592\n"
     ]
    },
    {
     "data": {
      "text/plain": [
       "1.03769109960003"
      ]
     },
     "execution_count": 71,
     "metadata": {},
     "output_type": "execute_result"
    }
   ],
   "source": [
    "model1 = RandomForestRegressor(n_estimators=100,min_samples_leaf=7,max_features='sqrt')\n",
    "score_= cross_val_score(model, trainX, trainY, cv=kfold, scoring=scoring)\n",
    "model1.fit(trainX, trainY)\n",
    "predictions = model1.predict(testX)\n",
    "print(r2_score(testY, predictions))\n",
    "rmse = np.sqrt(mean_squared_error(testY, predictions))\n",
    "rmse"
   ]
  },
  {
   "cell_type": "code",
   "execution_count": 72,
   "metadata": {},
   "outputs": [],
   "source": [
    "def rf_feat_importance(m, df):\n",
    "    return pd.DataFrame({'cols':df.columns, 'imp':m.feature_importances_}).sort_values('imp', ascending=False)"
   ]
  },
  {
   "cell_type": "code",
   "execution_count": 73,
   "metadata": {},
   "outputs": [],
   "source": [
    "fi = rf_feat_importance(model1,X_train)"
   ]
  },
  {
   "cell_type": "code",
   "execution_count": 74,
   "metadata": {},
   "outputs": [
    {
     "data": {
      "text/html": [
       "<div>\n",
       "<style scoped>\n",
       "    .dataframe tbody tr th:only-of-type {\n",
       "        vertical-align: middle;\n",
       "    }\n",
       "\n",
       "    .dataframe tbody tr th {\n",
       "        vertical-align: top;\n",
       "    }\n",
       "\n",
       "    .dataframe thead th {\n",
       "        text-align: right;\n",
       "    }\n",
       "</style>\n",
       "<table border=\"1\" class=\"dataframe\">\n",
       "  <thead>\n",
       "    <tr style=\"text-align: right;\">\n",
       "      <th></th>\n",
       "      <th>cols</th>\n",
       "      <th>imp</th>\n",
       "    </tr>\n",
       "  </thead>\n",
       "  <tbody>\n",
       "    <tr>\n",
       "      <th>2</th>\n",
       "      <td>numberofadults</td>\n",
       "      <td>0.160660</td>\n",
       "    </tr>\n",
       "    <tr>\n",
       "      <th>7</th>\n",
       "      <td>roomnights</td>\n",
       "      <td>0.152105</td>\n",
       "    </tr>\n",
       "    <tr>\n",
       "      <th>9</th>\n",
       "      <td>total_pax</td>\n",
       "      <td>0.134719</td>\n",
       "    </tr>\n",
       "    <tr>\n",
       "      <th>10</th>\n",
       "      <td>member_age_buckets</td>\n",
       "      <td>0.121751</td>\n",
       "    </tr>\n",
       "    <tr>\n",
       "      <th>1</th>\n",
       "      <td>main_product_code</td>\n",
       "      <td>0.067491</td>\n",
       "    </tr>\n",
       "    <tr>\n",
       "      <th>8</th>\n",
       "      <td>state_code_resort</td>\n",
       "      <td>0.067256</td>\n",
       "    </tr>\n",
       "    <tr>\n",
       "      <th>0</th>\n",
       "      <td>channel_code</td>\n",
       "      <td>0.061932</td>\n",
       "    </tr>\n",
       "    <tr>\n",
       "      <th>6</th>\n",
       "      <td>room_type_booked_code</td>\n",
       "      <td>0.059852</td>\n",
       "    </tr>\n",
       "    <tr>\n",
       "      <th>5</th>\n",
       "      <td>resort_type_code</td>\n",
       "      <td>0.044119</td>\n",
       "    </tr>\n",
       "    <tr>\n",
       "      <th>3</th>\n",
       "      <td>numberofchildren</td>\n",
       "      <td>0.038908</td>\n",
       "    </tr>\n",
       "  </tbody>\n",
       "</table>\n",
       "</div>"
      ],
      "text/plain": [
       "                     cols       imp\n",
       "2          numberofadults  0.160660\n",
       "7              roomnights  0.152105\n",
       "9               total_pax  0.134719\n",
       "10     member_age_buckets  0.121751\n",
       "1       main_product_code  0.067491\n",
       "8       state_code_resort  0.067256\n",
       "0            channel_code  0.061932\n",
       "6   room_type_booked_code  0.059852\n",
       "5        resort_type_code  0.044119\n",
       "3        numberofchildren  0.038908"
      ]
     },
     "execution_count": 74,
     "metadata": {},
     "output_type": "execute_result"
    }
   ],
   "source": [
    "fi[:10]"
   ]
  },
  {
   "cell_type": "code",
   "execution_count": 75,
   "metadata": {},
   "outputs": [
    {
     "data": {
      "text/plain": [
       "<matplotlib.axes._subplots.AxesSubplot at 0x1e18a6b6fd0>"
      ]
     },
     "execution_count": 75,
     "metadata": {},
     "output_type": "execute_result"
    },
    {
     "data": {
      "image/png": "[encoded data removed]",
      "text/plain": [
       "<Figure size 720x432 with 1 Axes>"
      ]
     },
     "metadata": {},
     "output_type": "display_data"
    }
   ],
   "source": [
    "fi.plot('cols', 'imp', figsize=(10,6), legend=False)"
   ]
  },
  {
   "cell_type": "code",
   "execution_count": 76,
   "metadata": {},
   "outputs": [
    {
     "data": {
      "text/plain": [
       "<matplotlib.axes._subplots.AxesSubplot at 0x1e1840aff98>"
      ]
     },
     "execution_count": 76,
     "metadata": {},
     "output_type": "execute_result"
    },
    {
     "data": {
      "image/png": "[encoded data removed]",
      "text/plain": [
       "<Figure size 864x504 with 1 Axes>"
      ]
     },
     "metadata": {},
     "output_type": "display_data"
    }
   ],
   "source": [
    "def plot_fi(fi): \n",
    "    return fi.plot('cols','imp','barh', figsize=(12,7), legend=False)\n",
    "plot_fi(fi)"
   ]
  },
  {
   "cell_type": "code",
   "execution_count": 79,
   "metadata": {},
   "outputs": [],
   "source": [
    "X_train1 = X_train[['numberofadults','roomnights','total_pax','member_age_buckets','main_product_code','state_code_resort','channel_code','room_type_booked_code','resort_type_code','numberofchildren','cluster_code','resort_region_code','reservationstatusid_code','booking_type_code']]"
   ]
  },
  {
   "cell_type": "code",
   "execution_count": 80,
   "metadata": {},
   "outputs": [
    {
     "ename": "IndexError",
     "evalue": "only integers, slices (`:`), ellipsis (`...`), numpy.newaxis (`None`) and integer or boolean arrays are valid indices",
     "output_type": "error",
     "traceback": [
      "\u001b[1;31m---------------------------------------------------------------------------\u001b[0m",
      "\u001b[1;31mIndexError\u001b[0m                                Traceback (most recent call last)",
      "\u001b[1;32m<ipython-input-80-e8035f651309>\u001b[0m in \u001b[0;36m<module>\u001b[1;34m()\u001b[0m\n\u001b[1;32m----> 1\u001b[1;33m \u001b[0mX_test1\u001b[0m \u001b[1;33m=\u001b[0m \u001b[0mX_test\u001b[0m\u001b[1;33m[\u001b[0m\u001b[1;33m[\u001b[0m\u001b[1;34m'numberofadults'\u001b[0m\u001b[1;33m,\u001b[0m\u001b[1;34m'roomnights'\u001b[0m\u001b[1;33m,\u001b[0m\u001b[1;34m'total_pax'\u001b[0m\u001b[1;33m,\u001b[0m\u001b[1;34m'member_age_buckets'\u001b[0m\u001b[1;33m,\u001b[0m\u001b[1;34m'main_product_code'\u001b[0m\u001b[1;33m,\u001b[0m\u001b[1;34m'state_code_resort'\u001b[0m\u001b[1;33m,\u001b[0m\u001b[1;34m'channel_code'\u001b[0m\u001b[1;33m,\u001b[0m\u001b[1;34m'room_type_booked_code'\u001b[0m\u001b[1;33m,\u001b[0m\u001b[1;34m'resort_type_code'\u001b[0m\u001b[1;33m,\u001b[0m\u001b[1;34m'numberofchildren'\u001b[0m\u001b[1;33m,\u001b[0m\u001b[1;34m'cluster_code'\u001b[0m\u001b[1;33m,\u001b[0m\u001b[1;34m'resort_region_code'\u001b[0m\u001b[1;33m,\u001b[0m\u001b[1;34m'reservationstatusid_code'\u001b[0m\u001b[1;33m,\u001b[0m\u001b[1;34m'booking_type_code'\u001b[0m\u001b[1;33m]\u001b[0m\u001b[1;33m]\u001b[0m\u001b[1;33m\u001b[0m\u001b[0m\n\u001b[0m",
      "\u001b[1;31mIndexError\u001b[0m: only integers, slices (`:`), ellipsis (`...`), numpy.newaxis (`None`) and integer or boolean arrays are valid indices"
     ]
    }
   ],
   "source": [
    "X_test1 = X_test[['numberofadults','roomnights','total_pax','member_age_buckets','main_product_code','state_code_resort','channel_code','room_type_booked_code','resort_type_code','numberofchildren','cluster_code','resort_region_code','reservationstatusid_code','booking_type_code']]"
   ]
  },
  {
   "cell_type": "code",
   "execution_count": null,
   "metadata": {},
   "outputs": [],
   "source": []
  },
  {
   "cell_type": "code",
   "execution_count": null,
   "metadata": {},
   "outputs": [],
   "source": []
  },
  {
   "cell_type": "code",
   "execution_count": null,
   "metadata": {},
   "outputs": [],
   "source": []
  },
  {
   "cell_type": "code",
   "execution_count": 78,
   "metadata": {},
   "outputs": [],
   "source": [
    "y_pred = model1.predict(X_test)\n",
    "my_submission = pd.DataFrame({'reservation_id': test_dataid, 'amount_spent_per_room_night_scaled': y_pred})\n",
    "my_submission.to_csv('submission_amount3.csv', index=False)"
   ]
  },
  {
   "cell_type": "code",
   "execution_count": null,
   "metadata": {},
   "outputs": [],
   "source": []
  }
 ],
 "metadata": {
  "kernelspec": {
   "display_name": "Python 3",
   "language": "python",
   "name": "python3"
  },
  "language_info": {
   "codemirror_mode": {
    "name": "ipython",
    "version": 3
   },
   "file_extension": ".py",
   "mimetype": "text/x-python",
   "name": "python",
   "nbconvert_exporter": "python",
   "pygments_lexer": "ipython3",
   "version": "3.6.5"
  }
 },
 "nbformat": 4,
 "nbformat_minor": 2
}
